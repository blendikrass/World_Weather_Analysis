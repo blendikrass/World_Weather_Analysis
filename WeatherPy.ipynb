{
 "cells": [
  {
   "cell_type": "code",
   "execution_count": 14,
   "id": "54cf5b10-893b-4b88-8738-1c29f5e0c7e3",
   "metadata": {},
   "outputs": [],
   "source": [
    "# Import the time library and the datetime module from the datetime library\n",
    "import pandas as pd\n",
    "import time\n",
    "from datetime import datetime\n",
    "import requests\n",
    "from config import weather_api_key\n",
    "import matplotlib.pyplot as plt"
   ]
  },
  {
   "cell_type": "code",
   "execution_count": 2,
   "id": "0d3cfe44-2bb7-4502-a10b-22ac1482ac51",
   "metadata": {},
   "outputs": [
    {
     "name": "stdout",
     "output_type": "stream",
     "text": [
      "http://api.openweathermap.org/data/2.5/weather?units=Imperial&APPID=a288c9e5629ba33b3960826b7d39dd61\n"
     ]
    }
   ],
   "source": [
    "# Starting URL for Weather Map API Call.\n",
    "url = \"http://api.openweathermap.org/data/2.5/weather?units=Imperial&APPID=\" + weather_api_key\n",
    "print(url)"
   ]
  },
  {
   "cell_type": "code",
   "execution_count": 3,
   "id": "dc3e90fa-a23c-474a-907c-6450b27b6864",
   "metadata": {},
   "outputs": [],
   "source": [
    "cities = ['Tuktoyaktuk', 'Hemanus', 'Bluff', 'Port Alfred', 'Outjo', 'Agadez', 'Paso De Los Toros', 'Avarua', 'Taltal', 'Airai']"
   ]
  },
  {
   "cell_type": "code",
   "execution_count": 4,
   "id": "4c6fa963-4702-4d1c-8b4d-e1644883f496",
   "metadata": {},
   "outputs": [
    {
     "name": "stdout",
     "output_type": "stream",
     "text": [
      "Beginning Data Retrieval     \n",
      "-----------------------------\n"
     ]
    }
   ],
   "source": [
    "# Create an empty list to hold the weather data.\n",
    "city_data = []\n",
    "# Print the beginning of the logging.\n",
    "print(\"Beginning Data Retrieval     \")\n",
    "print(\"-----------------------------\")\n",
    "\n",
    "# Create counters.\n",
    "record_count = 1\n",
    "set_count = 1"
   ]
  },
  {
   "cell_type": "code",
   "execution_count": 5,
   "id": "ad63a412-0adb-4600-b12a-ff84cfb8ca93",
   "metadata": {},
   "outputs": [],
   "source": [
    "# Loop through all the cities in our list.\n",
    "for i in range(len(cities)):\n",
    "\n",
    "    # Group cities in sets of 50 for logging purposes.\n",
    "    if (i % 50 == 0 and i >= 50):\n",
    "        set_count += 1\n",
    "        record_count = 1\n",
    "        time.sleep(60)\n",
    "\n",
    "# Create endpoint URL with each city.\n",
    "city_url = url + \"&q=\" + cities[i]"
   ]
  },
  {
   "cell_type": "code",
   "execution_count": 6,
   "id": "3eb52d49-66c1-4e06-90ca-9dda465bf095",
   "metadata": {},
   "outputs": [
    {
     "name": "stdout",
     "output_type": "stream",
     "text": [
      "Processing Record 1 of Set 1 | Tuktoyaktuk\n",
      "Processing Record 2 of Set 1 | Hemanus\n",
      "City not found. Skipping...\n",
      "Processing Record 3 of Set 1 | Bluff\n",
      "Processing Record 4 of Set 1 | Port Alfred\n",
      "Processing Record 5 of Set 1 | Outjo\n",
      "Processing Record 6 of Set 1 | Agadez\n",
      "Processing Record 7 of Set 1 | Paso De Los Toros\n",
      "Processing Record 8 of Set 1 | Avarua\n",
      "Processing Record 9 of Set 1 | Taltal\n",
      "Processing Record 10 of Set 1 | Airai\n",
      "----------------------------\n",
      "Data Retrieval Complete      \n",
      "----------------------------\n"
     ]
    }
   ],
   "source": [
    "# Loop through all the cities in the list.\n",
    "for i, city in enumerate(cities):\n",
    "\n",
    "    # Group cities in sets of 50 for logging purposes.\n",
    "    if (i % 50 == 0 and i >= 50):\n",
    "        set_count += 1\n",
    "        record_count = 1\n",
    "        time.sleep(60)\n",
    "\n",
    "    # Create endpoint URL with each city.\n",
    "    city_url = url + \"&q=\" + city.replace(\" \",\"+\")\n",
    "\n",
    "    # Log the URL, record, and set numbers and the city.\n",
    "    print(f\"Processing Record {record_count} of Set {set_count} | {city}\")\n",
    "    # Add 1 to the record count.\n",
    "    record_count += 1\n",
    "    \n",
    "# Run an API request for each of the cities.\n",
    "    try:\n",
    "        # Parse the JSON and retrieve data.\n",
    "        city_weather = requests.get(city_url).json()\n",
    "        # Parse out the needed data.\n",
    "        city_lat = city_weather[\"coord\"][\"lat\"]\n",
    "        city_lng = city_weather[\"coord\"][\"lon\"]\n",
    "        city_max_temp = city_weather[\"main\"][\"temp_max\"]\n",
    "        city_humidity = city_weather[\"main\"][\"humidity\"]\n",
    "        city_clouds = city_weather[\"clouds\"][\"all\"]\n",
    "        city_wind = city_weather[\"wind\"][\"speed\"]\n",
    "        city_country = city_weather[\"sys\"][\"country\"]\n",
    "        # Convert the date to ISO standard.\n",
    "        city_date = datetime.utcfromtimestamp(city_weather[\"dt\"]).strftime('%Y-%m-%d %H:%M:%S')\n",
    "        # Append the city information into city_data list.\n",
    "        city_data.append({\"City\": city.title(),\n",
    "                          \"Lat\": city_lat,\n",
    "                          \"Lng\": city_lng,\n",
    "                          \"Max Temp\": city_max_temp,\n",
    "                          \"Humidity\": city_humidity,\n",
    "                          \"Cloudiness\": city_clouds,\n",
    "                          \"Wind Speed\": city_wind,\n",
    "                          \"Country\": city_country,\n",
    "                          \"Date\": city_date})\n",
    "\n",
    "# If an error is experienced, skip the city.\n",
    "    except:\n",
    "        print(\"City not found. Skipping...\")\n",
    "        pass\n",
    "\n",
    "# Indicate that Data Loading is complete.\n",
    "print(\"----------------------------\")\n",
    "print(\"Data Retrieval Complete      \")\n",
    "print(\"----------------------------\")"
   ]
  },
  {
   "cell_type": "code",
   "execution_count": 7,
   "id": "e6ee45d2-bfe5-4916-8775-ace34fd6e371",
   "metadata": {},
   "outputs": [
    {
     "data": {
      "text/html": [
       "<div>\n",
       "<style scoped>\n",
       "    .dataframe tbody tr th:only-of-type {\n",
       "        vertical-align: middle;\n",
       "    }\n",
       "\n",
       "    .dataframe tbody tr th {\n",
       "        vertical-align: top;\n",
       "    }\n",
       "\n",
       "    .dataframe thead th {\n",
       "        text-align: right;\n",
       "    }\n",
       "</style>\n",
       "<table border=\"1\" class=\"dataframe\">\n",
       "  <thead>\n",
       "    <tr style=\"text-align: right;\">\n",
       "      <th></th>\n",
       "      <th>City</th>\n",
       "      <th>Lat</th>\n",
       "      <th>Lng</th>\n",
       "      <th>Max Temp</th>\n",
       "      <th>Humidity</th>\n",
       "      <th>Cloudiness</th>\n",
       "      <th>Wind Speed</th>\n",
       "      <th>Country</th>\n",
       "      <th>Date</th>\n",
       "    </tr>\n",
       "  </thead>\n",
       "  <tbody>\n",
       "    <tr>\n",
       "      <th>0</th>\n",
       "      <td>Tuktoyaktuk</td>\n",
       "      <td>69.4541</td>\n",
       "      <td>-133.0374</td>\n",
       "      <td>-29.29</td>\n",
       "      <td>100</td>\n",
       "      <td>65</td>\n",
       "      <td>6.73</td>\n",
       "      <td>CA</td>\n",
       "      <td>2023-02-22 14:01:49</td>\n",
       "    </tr>\n",
       "    <tr>\n",
       "      <th>1</th>\n",
       "      <td>Bluff</td>\n",
       "      <td>-46.6000</td>\n",
       "      <td>168.3333</td>\n",
       "      <td>52.81</td>\n",
       "      <td>69</td>\n",
       "      <td>98</td>\n",
       "      <td>13.04</td>\n",
       "      <td>NZ</td>\n",
       "      <td>2023-02-22 14:01:49</td>\n",
       "    </tr>\n",
       "    <tr>\n",
       "      <th>2</th>\n",
       "      <td>Port Alfred</td>\n",
       "      <td>-33.5906</td>\n",
       "      <td>26.8910</td>\n",
       "      <td>76.17</td>\n",
       "      <td>76</td>\n",
       "      <td>0</td>\n",
       "      <td>5.99</td>\n",
       "      <td>ZA</td>\n",
       "      <td>2023-02-22 13:57:17</td>\n",
       "    </tr>\n",
       "    <tr>\n",
       "      <th>3</th>\n",
       "      <td>Outjo</td>\n",
       "      <td>-20.1167</td>\n",
       "      <td>16.1500</td>\n",
       "      <td>94.55</td>\n",
       "      <td>14</td>\n",
       "      <td>5</td>\n",
       "      <td>1.68</td>\n",
       "      <td>NA</td>\n",
       "      <td>2023-02-22 14:01:49</td>\n",
       "    </tr>\n",
       "    <tr>\n",
       "      <th>4</th>\n",
       "      <td>Agadez</td>\n",
       "      <td>19.7500</td>\n",
       "      <td>10.2500</td>\n",
       "      <td>80.44</td>\n",
       "      <td>10</td>\n",
       "      <td>0</td>\n",
       "      <td>7.27</td>\n",
       "      <td>NE</td>\n",
       "      <td>2023-02-22 14:01:49</td>\n",
       "    </tr>\n",
       "    <tr>\n",
       "      <th>5</th>\n",
       "      <td>Paso De Los Toros</td>\n",
       "      <td>-32.8167</td>\n",
       "      <td>-56.5167</td>\n",
       "      <td>85.57</td>\n",
       "      <td>35</td>\n",
       "      <td>89</td>\n",
       "      <td>10.04</td>\n",
       "      <td>UY</td>\n",
       "      <td>2023-02-22 14:01:50</td>\n",
       "    </tr>\n",
       "    <tr>\n",
       "      <th>6</th>\n",
       "      <td>Avarua</td>\n",
       "      <td>-21.2078</td>\n",
       "      <td>-159.7750</td>\n",
       "      <td>71.65</td>\n",
       "      <td>100</td>\n",
       "      <td>6</td>\n",
       "      <td>2.30</td>\n",
       "      <td>CK</td>\n",
       "      <td>2023-02-22 14:01:50</td>\n",
       "    </tr>\n",
       "    <tr>\n",
       "      <th>7</th>\n",
       "      <td>Taltal</td>\n",
       "      <td>-25.4000</td>\n",
       "      <td>-70.4833</td>\n",
       "      <td>72.37</td>\n",
       "      <td>71</td>\n",
       "      <td>3</td>\n",
       "      <td>5.26</td>\n",
       "      <td>CL</td>\n",
       "      <td>2023-02-22 14:01:50</td>\n",
       "    </tr>\n",
       "    <tr>\n",
       "      <th>8</th>\n",
       "      <td>Airai</td>\n",
       "      <td>-8.9266</td>\n",
       "      <td>125.4092</td>\n",
       "      <td>62.10</td>\n",
       "      <td>96</td>\n",
       "      <td>100</td>\n",
       "      <td>2.15</td>\n",
       "      <td>TL</td>\n",
       "      <td>2023-02-22 14:01:50</td>\n",
       "    </tr>\n",
       "  </tbody>\n",
       "</table>\n",
       "</div>"
      ],
      "text/plain": [
       "                City      Lat       Lng  Max Temp  Humidity  Cloudiness  \\\n",
       "0        Tuktoyaktuk  69.4541 -133.0374    -29.29       100          65   \n",
       "1              Bluff -46.6000  168.3333     52.81        69          98   \n",
       "2        Port Alfred -33.5906   26.8910     76.17        76           0   \n",
       "3              Outjo -20.1167   16.1500     94.55        14           5   \n",
       "4             Agadez  19.7500   10.2500     80.44        10           0   \n",
       "5  Paso De Los Toros -32.8167  -56.5167     85.57        35          89   \n",
       "6             Avarua -21.2078 -159.7750     71.65       100           6   \n",
       "7             Taltal -25.4000  -70.4833     72.37        71           3   \n",
       "8              Airai  -8.9266  125.4092     62.10        96         100   \n",
       "\n",
       "   Wind Speed Country                 Date  \n",
       "0        6.73      CA  2023-02-22 14:01:49  \n",
       "1       13.04      NZ  2023-02-22 14:01:49  \n",
       "2        5.99      ZA  2023-02-22 13:57:17  \n",
       "3        1.68      NA  2023-02-22 14:01:49  \n",
       "4        7.27      NE  2023-02-22 14:01:49  \n",
       "5       10.04      UY  2023-02-22 14:01:50  \n",
       "6        2.30      CK  2023-02-22 14:01:50  \n",
       "7        5.26      CL  2023-02-22 14:01:50  \n",
       "8        2.15      TL  2023-02-22 14:01:50  "
      ]
     },
     "execution_count": 7,
     "metadata": {},
     "output_type": "execute_result"
    }
   ],
   "source": [
    "city_data_df = pd.DataFrame(city_data)\n",
    "city_data_df"
   ]
  },
  {
   "cell_type": "code",
   "execution_count": 8,
   "id": "4bf8ed13-3dca-4a5a-bf34-a7a825de94c8",
   "metadata": {},
   "outputs": [
    {
     "data": {
      "text/html": [
       "<div>\n",
       "<style scoped>\n",
       "    .dataframe tbody tr th:only-of-type {\n",
       "        vertical-align: middle;\n",
       "    }\n",
       "\n",
       "    .dataframe tbody tr th {\n",
       "        vertical-align: top;\n",
       "    }\n",
       "\n",
       "    .dataframe thead th {\n",
       "        text-align: right;\n",
       "    }\n",
       "</style>\n",
       "<table border=\"1\" class=\"dataframe\">\n",
       "  <thead>\n",
       "    <tr style=\"text-align: right;\">\n",
       "      <th></th>\n",
       "      <th>City</th>\n",
       "      <th>Country</th>\n",
       "      <th>Date</th>\n",
       "      <th>Lat</th>\n",
       "      <th>Lng</th>\n",
       "      <th>Max Temp</th>\n",
       "      <th>Humidity</th>\n",
       "      <th>Cloudiness</th>\n",
       "      <th>Wind Speed</th>\n",
       "    </tr>\n",
       "  </thead>\n",
       "  <tbody>\n",
       "    <tr>\n",
       "      <th>0</th>\n",
       "      <td>Tuktoyaktuk</td>\n",
       "      <td>CA</td>\n",
       "      <td>2023-02-22 14:01:49</td>\n",
       "      <td>69.4541</td>\n",
       "      <td>-133.0374</td>\n",
       "      <td>-29.29</td>\n",
       "      <td>100</td>\n",
       "      <td>65</td>\n",
       "      <td>6.73</td>\n",
       "    </tr>\n",
       "    <tr>\n",
       "      <th>1</th>\n",
       "      <td>Bluff</td>\n",
       "      <td>NZ</td>\n",
       "      <td>2023-02-22 14:01:49</td>\n",
       "      <td>-46.6000</td>\n",
       "      <td>168.3333</td>\n",
       "      <td>52.81</td>\n",
       "      <td>69</td>\n",
       "      <td>98</td>\n",
       "      <td>13.04</td>\n",
       "    </tr>\n",
       "    <tr>\n",
       "      <th>2</th>\n",
       "      <td>Port Alfred</td>\n",
       "      <td>ZA</td>\n",
       "      <td>2023-02-22 13:57:17</td>\n",
       "      <td>-33.5906</td>\n",
       "      <td>26.8910</td>\n",
       "      <td>76.17</td>\n",
       "      <td>76</td>\n",
       "      <td>0</td>\n",
       "      <td>5.99</td>\n",
       "    </tr>\n",
       "    <tr>\n",
       "      <th>3</th>\n",
       "      <td>Outjo</td>\n",
       "      <td>NA</td>\n",
       "      <td>2023-02-22 14:01:49</td>\n",
       "      <td>-20.1167</td>\n",
       "      <td>16.1500</td>\n",
       "      <td>94.55</td>\n",
       "      <td>14</td>\n",
       "      <td>5</td>\n",
       "      <td>1.68</td>\n",
       "    </tr>\n",
       "    <tr>\n",
       "      <th>4</th>\n",
       "      <td>Agadez</td>\n",
       "      <td>NE</td>\n",
       "      <td>2023-02-22 14:01:49</td>\n",
       "      <td>19.7500</td>\n",
       "      <td>10.2500</td>\n",
       "      <td>80.44</td>\n",
       "      <td>10</td>\n",
       "      <td>0</td>\n",
       "      <td>7.27</td>\n",
       "    </tr>\n",
       "    <tr>\n",
       "      <th>5</th>\n",
       "      <td>Paso De Los Toros</td>\n",
       "      <td>UY</td>\n",
       "      <td>2023-02-22 14:01:50</td>\n",
       "      <td>-32.8167</td>\n",
       "      <td>-56.5167</td>\n",
       "      <td>85.57</td>\n",
       "      <td>35</td>\n",
       "      <td>89</td>\n",
       "      <td>10.04</td>\n",
       "    </tr>\n",
       "    <tr>\n",
       "      <th>6</th>\n",
       "      <td>Avarua</td>\n",
       "      <td>CK</td>\n",
       "      <td>2023-02-22 14:01:50</td>\n",
       "      <td>-21.2078</td>\n",
       "      <td>-159.7750</td>\n",
       "      <td>71.65</td>\n",
       "      <td>100</td>\n",
       "      <td>6</td>\n",
       "      <td>2.30</td>\n",
       "    </tr>\n",
       "    <tr>\n",
       "      <th>7</th>\n",
       "      <td>Taltal</td>\n",
       "      <td>CL</td>\n",
       "      <td>2023-02-22 14:01:50</td>\n",
       "      <td>-25.4000</td>\n",
       "      <td>-70.4833</td>\n",
       "      <td>72.37</td>\n",
       "      <td>71</td>\n",
       "      <td>3</td>\n",
       "      <td>5.26</td>\n",
       "    </tr>\n",
       "    <tr>\n",
       "      <th>8</th>\n",
       "      <td>Airai</td>\n",
       "      <td>TL</td>\n",
       "      <td>2023-02-22 14:01:50</td>\n",
       "      <td>-8.9266</td>\n",
       "      <td>125.4092</td>\n",
       "      <td>62.10</td>\n",
       "      <td>96</td>\n",
       "      <td>100</td>\n",
       "      <td>2.15</td>\n",
       "    </tr>\n",
       "  </tbody>\n",
       "</table>\n",
       "</div>"
      ],
      "text/plain": [
       "                City Country                 Date      Lat       Lng  \\\n",
       "0        Tuktoyaktuk      CA  2023-02-22 14:01:49  69.4541 -133.0374   \n",
       "1              Bluff      NZ  2023-02-22 14:01:49 -46.6000  168.3333   \n",
       "2        Port Alfred      ZA  2023-02-22 13:57:17 -33.5906   26.8910   \n",
       "3              Outjo      NA  2023-02-22 14:01:49 -20.1167   16.1500   \n",
       "4             Agadez      NE  2023-02-22 14:01:49  19.7500   10.2500   \n",
       "5  Paso De Los Toros      UY  2023-02-22 14:01:50 -32.8167  -56.5167   \n",
       "6             Avarua      CK  2023-02-22 14:01:50 -21.2078 -159.7750   \n",
       "7             Taltal      CL  2023-02-22 14:01:50 -25.4000  -70.4833   \n",
       "8              Airai      TL  2023-02-22 14:01:50  -8.9266  125.4092   \n",
       "\n",
       "   Max Temp  Humidity  Cloudiness  Wind Speed  \n",
       "0    -29.29       100          65        6.73  \n",
       "1     52.81        69          98       13.04  \n",
       "2     76.17        76           0        5.99  \n",
       "3     94.55        14           5        1.68  \n",
       "4     80.44        10           0        7.27  \n",
       "5     85.57        35          89       10.04  \n",
       "6     71.65       100           6        2.30  \n",
       "7     72.37        71           3        5.26  \n",
       "8     62.10        96         100        2.15  "
      ]
     },
     "execution_count": 8,
     "metadata": {},
     "output_type": "execute_result"
    }
   ],
   "source": [
    "new_column_order = ['City', 'Country', 'Date', 'Lat', 'Lng', 'Max Temp', 'Humidity', 'Cloudiness', 'Wind Speed']\n",
    "city_data_df = city_data_df[new_column_order]\n",
    "city_data_df"
   ]
  },
  {
   "cell_type": "code",
   "execution_count": 9,
   "id": "a3d6ecea-8017-45cc-ae60-a1915a626c75",
   "metadata": {},
   "outputs": [],
   "source": [
    "# Create the output file (CSV).\n",
    "output_data_file = \"weather_data/cities.csv\"\n",
    "\n",
    "# Export the City_Data into a CSV.\n",
    "city_data_df.to_csv(output_data_file, index_label=\"City_ID\")"
   ]
  },
  {
   "cell_type": "code",
   "execution_count": 10,
   "id": "67cc9f2a-5bc2-4324-bfa8-70b831d6e609",
   "metadata": {},
   "outputs": [],
   "source": [
    "# Extract relevant fields from the DataFrame for plotting.\n",
    "lats = city_data_df[\"Lat\"]\n",
    "max_temps = city_data_df[\"Max Temp\"]\n",
    "humidity = city_data_df[\"Humidity\"]\n",
    "cloudiness = city_data_df[\"Cloudiness\"]\n",
    "wind_speed = city_data_df[\"Wind Speed\"]"
   ]
  },
  {
   "cell_type": "code",
   "execution_count": 40,
   "id": "c18dae6a-a272-478d-84b9-f26f4434b784",
   "metadata": {},
   "outputs": [
    {
     "data": {
      "text/plain": [
       "'02/22/23'"
      ]
     },
     "execution_count": 40,
     "metadata": {},
     "output_type": "execute_result"
    }
   ],
   "source": [
    "# Get today's date in seconds.\n",
    "today = time.strftime(\"%x\")\n",
    "today"
   ]
  },
  {
   "cell_type": "code",
   "execution_count": 41,
   "id": "1d45cc8b-d004-4a7b-a85f-8901194f3f56",
   "metadata": {},
   "outputs": [
    {
     "data": {
      "image/png": "[encoded data removed]",
      "text/plain": [
       "<Figure size 432x288 with 1 Axes>"
      ]
     },
     "metadata": {
      "needs_background": "light"
     },
     "output_type": "display_data"
    }
   ],
   "source": [
    "# Import time module\n",
    "import time\n",
    "\n",
    "# Build the scatter plot for latitude vs. max temperature.\n",
    "plt.scatter(lats,\n",
    "            max_temps,\n",
    "            edgecolor=\"black\", linewidths=1, marker=\"o\",\n",
    "            alpha=0.8, label=\"Cities\")\n",
    "\n",
    "# Incorporate the other graph properties.\n",
    "plt.title(f\"City Latitude vs. Max Temperature \"+ time.strftime(\"%x\"))\n",
    "plt.ylabel(\"Max Temperature (F)\")\n",
    "plt.xlabel(\"Latitude\")\n",
    "plt.grid(True)\n",
    "\n",
    "# Save the figure.\n",
    "plt.savefig(\"weather_data/Fig1.png\")\n",
    "\n",
    "# Show plot.\n",
    "plt.show()"
   ]
  },
  {
   "cell_type": "code",
   "execution_count": 42,
   "id": "d3a55dc6-e9ff-4dc4-81b4-22f15a0b16b4",
   "metadata": {},
   "outputs": [],
   "source": [
    "# Extract relevant fields from the DataFrame for plotting.\n",
    "lats = city_data_df[\"Lat\"]\n",
    "max_temps = city_data_df[\"Max Temp\"]\n",
    "humidity = city_data_df[\"Humidity\"]\n",
    "cloudiness = city_data_df[\"Cloudiness\"]\n",
    "wind_speed = city_data_df[\"Wind Speed\"]"
   ]
  },
  {
   "cell_type": "code",
   "execution_count": 43,
   "id": "31c24d27-7959-400b-b219-fec295807bc0",
   "metadata": {},
   "outputs": [
    {
     "data": {
      "image/png": "[encoded data removed]",
      "text/plain": [
       "<Figure size 432x288 with 1 Axes>"
      ]
     },
     "metadata": {
      "needs_background": "light"
     },
     "output_type": "display_data"
    }
   ],
   "source": [
    "# Build the scatter plot for latitude vs. max temperature.\n",
    "plt.scatter(lats,\n",
    "            max_temps,\n",
    "            edgecolor=\"black\", linewidths=1, marker=\"o\",\n",
    "            alpha=0.8, label=\"Cities\")\n",
    "\n",
    "# Incorporate the other graph properties.\n",
    "plt.title(f\"City Latitude vs. Max Temperature \"+ time.strftime(\"%x\"))\n",
    "plt.ylabel(\"Max Temperature (F)\")\n",
    "plt.xlabel(\"Latitude\")\n",
    "plt.grid(True)\n",
    "\n",
    "# Save the figure.\n",
    "plt.savefig(\"weather_data/Fig1.png\")\n",
    "\n",
    "# Show plot.\n",
    "plt.show()"
   ]
  },
  {
   "cell_type": "code",
   "execution_count": 48,
   "id": "7ad91d54-647c-4e40-9d35-1624bd1364fa",
   "metadata": {},
   "outputs": [
    {
     "data": {
      "image/png": "[encoded data removed]",
      "text/plain": [
       "<Figure size 432x288 with 1 Axes>"
      ]
     },
     "metadata": {
      "needs_background": "light"
     },
     "output_type": "display_data"
    }
   ],
   "source": [
    "# Build the scatter plots for latitude vs. humidity.\n",
    "plt.scatter(lats,\n",
    "            humidity,\n",
    "            edgecolor=\"black\", linewidths=1, marker=\"o\",\n",
    "            alpha=0.8, label=\"Cities\")\n",
    "\n",
    "# Incorporate the other graph properties.\n",
    "plt.title(f\"City Latitude vs. Humidity \"+ time.strftime(\"%x\"))\n",
    "plt.ylabel(\"Humidity (%)\")\n",
    "plt.xlabel(\"Latitude\")\n",
    "plt.grid(True)\n",
    "\n",
    "# Save the figure.\n",
    "plt.savefig(\"weather_data/Fig2.png\")\n",
    "\n",
    "# Show plot.\n",
    "plt.show()"
   ]
  },
  {
   "cell_type": "code",
   "execution_count": 49,
   "id": "c6173de3-7264-472e-901e-f25d5114434b",
   "metadata": {},
   "outputs": [
    {
     "data": {
      "image/png": "[encoded data removed]",
      "text/plain": [
       "<Figure size 432x288 with 1 Axes>"
      ]
     },
     "metadata": {
      "needs_background": "light"
     },
     "output_type": "display_data"
    }
   ],
   "source": [
    "# Build the scatter plots for latitude vs. cloudiness.\n",
    "plt.scatter(lats,\n",
    "            cloudiness,\n",
    "            edgecolor=\"black\", linewidths=1, marker=\"o\",\n",
    "            alpha=0.8, label=\"Cities\")\n",
    "\n",
    "# Incorporate the other graph properties.\n",
    "plt.title(f\"City Latitude vs. Cloudiness (%) \"+ time.strftime(\"%x\"))\n",
    "plt.ylabel(\"Cloudiness (%)\")\n",
    "plt.xlabel(\"Latitude\")\n",
    "plt.grid(True)\n",
    "\n",
    "# Save the figure.\n",
    "plt.savefig(\"weather_data/Fig3.png\")\n",
    "\n",
    "\n",
    "# Show plot.\n",
    "plt.show()"
   ]
  },
  {
   "cell_type": "code",
   "execution_count": 60,
   "id": "9e75112e-6e96-4b27-a698-e9135b3b4109",
   "metadata": {},
   "outputs": [
    {
     "data": {
      "image/png": "[encoded data removed]",
      "text/plain": [
       "<Figure size 432x288 with 1 Axes>"
      ]
     },
     "metadata": {
      "needs_background": "light"
     },
     "output_type": "display_data"
    }
   ],
   "source": [
    "# Build the scatter plots for latitude vs. wind speed.\n",
    "plt.scatter(lats,\n",
    "            wind_speed,\n",
    "            edgecolor=\"black\", linewidths=1, marker=\"o\",\n",
    "            alpha=0.8, label=\"Cities\")\n",
    "\n",
    "# Incorporate the other graph properties.\n",
    "plt.title(f\"City Latitude vs. Wind Speed \"+ time.strftime(\"%x\"))\n",
    "plt.ylabel(\"Wind Speed (mph)\")\n",
    "plt.xlabel(\"Latitude\")\n",
    "plt.grid(True)\n",
    "\n",
    "# Save the figure.\n",
    "plt.savefig(\"weather_data/Fig4.png\")\n",
    "\n",
    "# Show plot.\n",
    "plt.show()"
   ]
  },
  {
   "cell_type": "code",
   "execution_count": null,
   "id": "da6b933d-5c30-4210-b460-8048bf037e83",
   "metadata": {},
   "outputs": [],
   "source": []
  }
 ],
 "metadata": {
  "kernelspec": {
   "display_name": "Python 3 (ipykernel)",
   "language": "python",
   "name": "python3"
  },
  "language_info": {
   "codemirror_mode": {
    "name": "ipython",
    "version": 3
   },
   "file_extension": ".py",
   "mimetype": "text/x-python",
   "name": "python",
   "nbconvert_exporter": "python",
   "pygments_lexer": "ipython3",
   "version": "3.9.12"
  }
 },
 "nbformat": 4,
 "nbformat_minor": 5
}
